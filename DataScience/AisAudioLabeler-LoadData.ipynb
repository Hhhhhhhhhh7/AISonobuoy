{
 "cells": [
  {
   "cell_type": "code",
   "execution_count": null,
   "id": "cc188d41",
   "metadata": {},
   "outputs": [],
   "source": [
    "# Manage imports\n",
    "from pathlib import Path\n",
    "import folium\n",
    "import AisAudioLabeler as aal\n",
    "import LabelerUtilities as lu"
   ]
  },
  {
   "cell_type": "code",
   "execution_count": null,
   "id": "054be07c",
   "metadata": {},
   "outputs": [],
   "source": [
    "# Assign data home directory, and collection filename\n",
    "data_home = Path(\"~\").expanduser() / \"Data\" / \"AISonobuoy\"\n",
    "collection_filename = \"collection-ais.json\""
   ]
  },
  {
   "cell_type": "code",
   "execution_count": null,
   "id": "f620b2ac",
   "metadata": {},
   "outputs": [],
   "source": [
    "# Load file describing the collection\n",
    "collection_path = Path(data_home) / collection_filename\n",
    "collection = lu.load_json_file(collection_path)"
   ]
  },
  {
   "cell_type": "code",
   "execution_count": null,
   "id": "bf02e605",
   "metadata": {},
   "outputs": [],
   "source": [
    "# For now, use the first source and hydrophone pair\n",
    "if len(collection[\"sources\"]) != len(collection[\"hydrophones\"]):\n",
    "    raise Exception(\"Strict source and hydrophone pairs expected\")\n",
    "source = collection[\"sources\"][0]\n",
    "hydrophone = collection[\"hydrophones\"][0]"
   ]
  },
  {
   "cell_type": "code",
   "execution_count": null,
   "id": "a617365a",
   "metadata": {},
   "outputs": [],
   "source": [
    "# Load AIS data\n",
    "ais = aal.get_ais_dataframe(data_home, source)"
   ]
  },
  {
   "cell_type": "code",
   "execution_count": null,
   "id": "8d07365b",
   "metadata": {},
   "outputs": [],
   "source": [
    "# Get hydrophone metadata\n",
    "hmd = aal.get_hmd_dataframe(data_home, hydrophone)"
   ]
  },
  {
   "cell_type": "code",
   "execution_count": null,
   "id": "996b9888",
   "metadata": {},
   "outputs": [],
   "source": [
    "# Get ship metadata\n",
    "shp = aal.get_shp_dictionary(data_home, source)"
   ]
  },
  {
   "cell_type": "code",
   "execution_count": null,
   "id": "9bef4a9f",
   "metadata": {},
   "outputs": [],
   "source": []
  }
 ],
 "metadata": {
  "kernelspec": {
   "display_name": "Python 3 (ipykernel)",
   "language": "python",
   "name": "python3"
  },
  "language_info": {
   "codemirror_mode": {
    "name": "ipython",
    "version": 3
   },
   "file_extension": ".py",
   "mimetype": "text/x-python",
   "name": "python",
   "nbconvert_exporter": "python",
   "pygments_lexer": "ipython3",
   "version": "3.8.13"
  }
 },
 "nbformat": 4,
 "nbformat_minor": 5
}
