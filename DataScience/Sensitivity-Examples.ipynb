{
 "cells": [
  {
   "cell_type": "code",
   "execution_count": null,
   "id": "cf6eb249",
   "metadata": {},
   "outputs": [],
   "source": [
    "import math\n",
    "from scipy.optimize import bisect\n",
    "from scipy.special import gammaincinv\n",
    "from scipy.stats import norm"
   ]
  },
  {
   "cell_type": "code",
   "execution_count": null,
   "id": "a58c7ab1",
   "metadata": {},
   "outputs": [],
   "source": [
    "# Example 1: Consider a bulk carrier located 1.6 km from an H2a hydrophone. The bulk carrier is underway, surrounded by moderate shipping activity, and enjoying fair weather with a steady wind of 5 m/s. What is the SNR at the hydrophone due to the sound signal produced by the bulk carrier?"
   ]
  },
  {
   "cell_type": "code",
   "execution_count": null,
   "id": "b49298af",
   "metadata": {},
   "outputs": [],
   "source": [
    "# From the problem statemnt, note the distance between the source and receiver\n",
    "distance = 1600  # m\n",
    "\n",
    "# From Fig. 4. of McKenna’s article, assume the bulk carrier produces a source density of 160 dB re μPa^2m^2/Hz from 60 to 200 Hz\n",
    "source_density = 160  # dB re μPa^2m^2/Hz\n",
    "source_bandwidth = 140  # Hz\n",
    "\n",
    "# From Fig. 3.19 of Abraham’s text in the frequency band from 60 to 200 Hz, assume shipping noise dominates other noise sources, giving a noise level of 75 dB re μPa^2/Hz\n",
    "noise_density = 75  # dB re μPa^2/Hz\n",
    "noise_bandwith = source_bandwidth  # Hz"
   ]
  },
  {
   "cell_type": "code",
   "execution_count": null,
   "id": "1980a215",
   "metadata": {},
   "outputs": [],
   "source": [
    "# Compute the source level\n",
    "SL = source_density + 10 * math.log10(source_bandwidth)  # dB re μPa^2m^2"
   ]
  },
  {
   "cell_type": "code",
   "execution_count": null,
   "id": "61591a50",
   "metadata": {},
   "outputs": [],
   "source": [
    "SL"
   ]
  },
  {
   "cell_type": "code",
   "execution_count": null,
   "id": "61b65901",
   "metadata": {},
   "outputs": [],
   "source": [
    "# Compute the propation loss\n",
    "# Note: In deep water the propagation loss can be represented by spherical spreading\n",
    "PL = 20 * math.log10(distance)  # dB re m^2"
   ]
  },
  {
   "cell_type": "code",
   "execution_count": null,
   "id": "225cca6a",
   "metadata": {},
   "outputs": [],
   "source": [
    "PL"
   ]
  },
  {
   "cell_type": "code",
   "execution_count": null,
   "id": "d69422af",
   "metadata": {},
   "outputs": [],
   "source": [
    "# Compute the noise level\n",
    "NL = noise_density + 10 * math.log10(noise_bandwith)  # dB re μPa^2"
   ]
  },
  {
   "cell_type": "code",
   "execution_count": null,
   "id": "975bbcbc",
   "metadata": {},
   "outputs": [],
   "source": [
    "NL"
   ]
  },
  {
   "cell_type": "code",
   "execution_count": null,
   "id": "10f938ae",
   "metadata": {},
   "outputs": [],
   "source": [
    "# Since only a single hydrophone is used, note the array gain\n",
    "AG = 0"
   ]
  },
  {
   "cell_type": "code",
   "execution_count": null,
   "id": "dcbbee95",
   "metadata": {},
   "outputs": [],
   "source": [
    "# Use the passive sonar equation to obtain the SNR at the hydrophone\n",
    "SNR_h = SL - PL - NL + AG"
   ]
  },
  {
   "cell_type": "code",
   "execution_count": null,
   "id": "7807f2fa",
   "metadata": {},
   "outputs": [],
   "source": [
    "SNR_h"
   ]
  },
  {
   "cell_type": "code",
   "execution_count": null,
   "id": "606fed58",
   "metadata": {},
   "outputs": [],
   "source": [
    "# Example 2: Interpreting SNR_h in Example 1 as the detection threshold of the system, what is the operating point of the system if the required probability of false alarm P_f = 0.10?"
   ]
  },
  {
   "cell_type": "code",
   "execution_count": null,
   "id": "df9bcea9",
   "metadata": {},
   "outputs": [],
   "source": [
    "# From the problem statement, note probability of false alarm, and detection threshold\n",
    "P_f = 0.10\n",
    "SNR_bar_d = SNR_h"
   ]
  },
  {
   "cell_type": "code",
   "execution_count": null,
   "id": "fa76aa67",
   "metadata": {},
   "outputs": [],
   "source": [
    "# Rearrange (9.36) to obtain the probability of detection\n",
    "P_d = math.exp(math.log(P_f)/(1+10**(SNR_bar_d / 10)))"
   ]
  },
  {
   "cell_type": "code",
   "execution_count": null,
   "id": "5b7ccbcb",
   "metadata": {},
   "outputs": [],
   "source": [
    "P_d"
   ]
  },
  {
   "cell_type": "code",
   "execution_count": null,
   "id": "564187ce",
   "metadata": {},
   "outputs": [],
   "source": [
    "# Example 3: Suppose the bulk carrier of Example 1 moves to a distance of 16 km from the H2a hydrophone. Interpreting the resulting SNR at the hydrophone as the detection threshold of the system, how many independent and identically distributed samples need to be incoherently integrated to obtain the operating point of Example Two?"
   ]
  },
  {
   "cell_type": "code",
   "execution_count": null,
   "id": "3ca355a3",
   "metadata": {},
   "outputs": [],
   "source": [
    "# From the problem statement, note the distance between the source and receiver\n",
    "distance = 16000  # m"
   ]
  },
  {
   "cell_type": "code",
   "execution_count": null,
   "id": "254a4eec",
   "metadata": {},
   "outputs": [],
   "source": [
    "# Compute the propagation loss\n",
    "# Note: In deep water the propagation loss can be represented by spherical spreading\n",
    "PL = 20 * math.log10(distance)  # dB re m^2"
   ]
  },
  {
   "cell_type": "code",
   "execution_count": null,
   "id": "2cdf92cf",
   "metadata": {},
   "outputs": [],
   "source": [
    "PL"
   ]
  },
  {
   "cell_type": "code",
   "execution_count": null,
   "id": "26f7d7a1",
   "metadata": {},
   "outputs": [],
   "source": [
    "# Use the passive sonar equation to obtain the SNR at the hydrophone, and interpret the result as the detection threshold of the system\n",
    "SNR_bar_d = SL - PL - NL + AG"
   ]
  },
  {
   "cell_type": "code",
   "execution_count": null,
   "id": "7651d448",
   "metadata": {},
   "outputs": [],
   "source": [
    "SNR_bar_d"
   ]
  },
  {
   "cell_type": "code",
   "execution_count": null,
   "id": "452c5092",
   "metadata": {},
   "outputs": [],
   "source": [
    "# Use the notation before (9.40), and then rearrange (9.44) to obtain the approximate number of samples\n",
    "phi_f = norm.ppf(1 - P_f)\n",
    "phi_d = norm.ppf(1 - P_d)\n",
    "M_0 = int(10**((10 * math.log10(phi_f - phi_d) - SNR_bar_d) / 5))"
   ]
  },
  {
   "cell_type": "code",
   "execution_count": null,
   "id": "1615dd7c",
   "metadata": {},
   "outputs": [],
   "source": [
    "M_0"
   ]
  },
  {
   "cell_type": "code",
   "execution_count": null,
   "id": "cb36891c",
   "metadata": {},
   "outputs": [],
   "source": [
    "# Define the exact soltuion (2.81)\n",
    "def snr_bar_d(M, P_f, P_d):\n",
    "    return 10 * math.log10((gammaincinv(int(M), 1 - P_f) / gammaincinv(int(M), 1 - P_d)) - 1)"
   ]
  },
  {
   "cell_type": "code",
   "execution_count": null,
   "id": "e6d2e510",
   "metadata": {},
   "outputs": [],
   "source": [
    "# Use bisection to find the root of the exact solution\n",
    "def f(M, P_f, P_d, SNR_bar_d):\n",
    "    return snr_bar_d(M, P_f, P_d) - SNR_bar_d\n",
    "M_1 = int(bisect(f, M_0, M_0 * 10, args=(P_f, P_d, SNR_bar_d)))"
   ]
  },
  {
   "cell_type": "code",
   "execution_count": null,
   "id": "b25b8135",
   "metadata": {},
   "outputs": [],
   "source": [
    "M_1"
   ]
  },
  {
   "cell_type": "code",
   "execution_count": null,
   "id": "f9f4d49c",
   "metadata": {},
   "outputs": [],
   "source": [
    "# Check the detection threshold\n",
    "SNR_bar_d = snr_bar_d(M_1, P_f, P_d)"
   ]
  },
  {
   "cell_type": "code",
   "execution_count": null,
   "id": "e8e33186",
   "metadata": {},
   "outputs": [],
   "source": [
    "SNR_bar_d"
   ]
  }
 ],
 "metadata": {
  "kernelspec": {
   "display_name": "Python 3 (ipykernel)",
   "language": "python",
   "name": "python3"
  },
  "language_info": {
   "codemirror_mode": {
    "name": "ipython",
    "version": 3
   },
   "file_extension": ".py",
   "mimetype": "text/x-python",
   "name": "python",
   "nbconvert_exporter": "python",
   "pygments_lexer": "ipython3",
   "version": "3.10.6"
  }
 },
 "nbformat": 4,
 "nbformat_minor": 5
}
