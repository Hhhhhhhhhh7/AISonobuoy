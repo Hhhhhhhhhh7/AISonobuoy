{
 "cells": [
  {
   "cell_type": "code",
   "execution_count": null,
   "id": "cc188d41",
   "metadata": {},
   "outputs": [],
   "source": [
    "# Manage imports\n",
    "from pathlib import Path\n",
    "import folium\n",
    "import AisAudioLabeler as aal\n",
    "import LabelerUtilities as lu"
   ]
  },
  {
   "cell_type": "code",
   "execution_count": null,
   "id": "054be07c",
   "metadata": {},
   "outputs": [],
   "source": [
    "# Assign data home directory, collection filename, sampling filepath, and clip home directory\n",
    "data_home = Path(\"~\").expanduser() / \"Data\" / \"AISonobuoy\"\n",
    "collection_filename = \"collection-ais.json\"\n",
    "sampling_filepath = Path(\"GpxAudioLabeler\").parent / \"data\" / \"sampling-ais.json\"\n",
    "clip_home = Path(\"~\").expanduser() / \"Datasets\" / \"AISonobuoy\""
   ]
  },
  {
   "cell_type": "code",
   "execution_count": null,
   "id": "b443e4c4",
   "metadata": {},
   "outputs": [],
   "source": [
    "# Load file describing the collection\n",
    "collection_path = Path(data_home) / collection_filename\n",
    "collection = lu.load_json_file(collection_path)"
   ]
  },
  {
   "cell_type": "code",
   "execution_count": null,
   "id": "650727b0",
   "metadata": {},
   "outputs": [],
   "source": [
    "# Load file describing the sampling cases\n",
    "# NOTE: Currently, the data from this file is unused\n",
    "sampling = lu.load_json_file(sampling_filepath)"
   ]
  },
  {
   "cell_type": "code",
   "execution_count": null,
   "id": "90cfac97",
   "metadata": {},
   "outputs": [],
   "source": [
    "# For now, assume a single source and hydrophone\n",
    "if len(collection[\"sources\"]) > 1 or len(collection[\"hydrophones\"]) > 1:\n",
    "    raise Exception(\"Only one source and one hydrophone expected\")\n",
    "source = collection[\"sources\"][0]\n",
    "hydrophone = collection[\"hydrophones\"][0]"
   ]
  },
  {
   "cell_type": "code",
   "execution_count": null,
   "id": "a617365a",
   "metadata": {},
   "outputs": [],
   "source": [
    "# Load AIS data\n",
    "ais = aal.get_ais_dataframe(data_home, source)"
   ]
  },
  {
   "cell_type": "code",
   "execution_count": null,
   "id": "81ff25a4",
   "metadata": {},
   "outputs": [],
   "source": [
    "# Get hydrophone metadata\n",
    "hmd = aal.get_hmd_dataframe(data_home, hydrophone)"
   ]
  },
  {
   "cell_type": "code",
   "execution_count": null,
   "id": "caf5b1bf",
   "metadata": {},
   "outputs": [],
   "source": [
    "# Plot the location of the hydrophone and every nth AIS position\n",
    "# Note: Modulo 10 still works fairly quickly\n",
    "# See:\n",
    "#    https://python-visualization.github.io/folium/quickstart.html\n",
    "#    https://snyk.io/advisor/npm-package/leaflet\n",
    "m = folium.Map(location=[hydrophone[\"lat\"], hydrophone[\"lon\"]], zoom_start=13)\n",
    "folium.Circle(\n",
    "    radius=0,\n",
    "    location=[hydrophone[\"lat\"], hydrophone[\"lon\"]],\n",
    "    popup=\"hydrophone\",\n",
    "    color=\"black\",\n",
    "    fill=True,\n",
    "    ).add_to(m)\n",
    "divisor = 1000\n",
    "for index, row in ais.iterrows():\n",
    "    if index % divisor != 0:\n",
    "        continue\n",
    "    folium.Circle(\n",
    "        radius=0,\n",
    "        location=[row[\"lat\"], row[\"lon\"]],\n",
    "        popup=f\"{row['mmsi']}\\n{row['shiptype']}\",\n",
    "        color=\"crimson\",\n",
    "        fill=False,\n",
    "    ).add_to(m)"
   ]
  },
  {
   "cell_type": "code",
   "execution_count": null,
   "id": "6421fdbc",
   "metadata": {},
   "outputs": [],
   "source": [
    "# Display the map\n",
    "m"
   ]
  },
  {
   "cell_type": "code",
   "execution_count": null,
   "id": "d3c148e0",
   "metadata": {},
   "outputs": [],
   "source": [
    "# Save the map\n",
    "m.save(data_home / f\"map-{source['name']}-{source['prefix']}-{divisor}.html\")"
   ]
  }
 ],
 "metadata": {
  "kernelspec": {
   "display_name": "Python 3 (ipykernel)",
   "language": "python",
   "name": "python3"
  },
  "language_info": {
   "codemirror_mode": {
    "name": "ipython",
    "version": 3
   },
   "file_extension": ".py",
   "mimetype": "text/x-python",
   "name": "python",
   "nbconvert_exporter": "python",
   "pygments_lexer": "ipython3",
   "version": "3.8.13"
  }
 },
 "nbformat": 4,
 "nbformat_minor": 5
}
