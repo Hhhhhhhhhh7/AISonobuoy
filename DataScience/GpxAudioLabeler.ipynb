{
 "cells": [
  {
   "cell_type": "code",
   "execution_count": null,
   "id": "892d62b2-103d-4a13-bf6b-1729ad0b4905",
   "metadata": {},
   "outputs": [],
   "source": [
    "# Manage imports\n",
    "from pathlib import Path\n",
    "import GpxAudioLabeler as gwl\n",
    "import LabelerUtilities as lu"
   ]
  },
  {
   "cell_type": "code",
   "execution_count": null,
   "id": "7a165d91-d274-43ae-ad93-b90e2624ead2",
   "metadata": {},
   "outputs": [],
   "source": [
    "# Assign data home directory, collection filename, sampling filepath, and clip home directory\n",
    "data_home = str(Path(\"~\").expanduser() / \"Data\" / \"AISonobuoy\")\n",
    "collection_filename = \"collection-gpx.json\"\n",
    "sampling_filepath = str(Path(\"GpxAudioLabeler\").parent / \"data\" / \"sampling-gpx.json\")\n",
    "clip_home = Path(\"~\").expanduser() / \"Datasets\" / \"AISonobuoy\""
   ]
  },
  {
   "cell_type": "code",
   "execution_count": null,
   "id": "174ec57f-809a-4902-ad94-297997406e96",
   "metadata": {},
   "outputs": [],
   "source": [
    "# Load file describing the collection\n",
    "collection_path = Path(data_home) / collection_filename\n",
    "collection = lu.load_json_file(collection_path)"
   ]
  },
  {
   "cell_type": "code",
   "execution_count": null,
   "id": "eda2432e-5936-4be3-b5b7-1ffdf5545481",
   "metadata": {},
   "outputs": [],
   "source": [
    "# Identify the interval during which any source emitted\n",
    "src_min_start_t = min([h[\"start_t\"] for h in collection[\"sources\"]]) * 1000  # [ms]\n",
    "src_max_stop_t = max([h[\"stop_t\"] for h in collection[\"sources\"]]) * 1000  # [ms]\n",
    "\n",
    "# Identify the interval during which all hydrophone collected\n",
    "hyd_max_start_t = (\n",
    "    max([h[\"start_t\"] for h in collection[\"hydrophones\"]]) * 1000\n",
    ")  # [ms]\n",
    "hyd_min_stop_t = (\n",
    "    min([h[\"stop_t\"] for h in collection[\"hydrophones\"]]) * 1000\n",
    ")  # [ms]"
   ]
  },
  {
   "cell_type": "code",
   "execution_count": null,
   "id": "7cba8790-790a-4b86-ba3f-c0e717bc27ba",
   "metadata": {},
   "outputs": [],
   "source": [
    "# Load file describing the sampling cases\n",
    "# NOTE: Edit this file to change parameters\n",
    "sampling = lu.load_json_file(sampling_filepath)"
   ]
  },
  {
   "cell_type": "code",
   "execution_count": null,
   "id": "6fc43cad-f7b3-486b-b1f2-ae86ed2e0aff",
   "metadata": {},
   "outputs": [],
   "source": [
    "# Consider the first source\n",
    "source = collection[\"sources\"][0]\n",
    "gpx_path = Path(data_home) / source[\"name\"]\n",
    "gpx, vld_t, vld_lambda, vld_varphi, vld_h = gwl.parse_source_gpx_file(gpx_path, source)"
   ]
  },
  {
   "cell_type": "code",
   "execution_count": null,
   "id": "33082968-1e64-4edd-a50a-b6b9de433ef6",
   "metadata": {},
   "outputs": [],
   "source": [
    "# Consider each hydrophone\n",
    "hydrophone = collection[\"hydrophones\"][0]\n",
    "wav_path = Path(data_home) / hydrophone[\"name\"]\n",
    "audio = lu.get_audio_file(wav_path)"
   ]
  },
  {
   "cell_type": "code",
   "execution_count": null,
   "id": "1b64a052-0ee5-4407-aec0-c32a1905996c",
   "metadata": {},
   "outputs": [],
   "source": [
    "# Export audio with no source present, if it exists\n",
    "if src_max_stop_t < hyd_min_stop_t:\n",
    "    lu.export_audio_clip(\n",
    "        audio,\n",
    "        src_max_stop_t,\n",
    "        hyd_min_stop_t,\n",
    "        Path(clip_home) / f\"{Path(hydrophone['name'].lower()).stem}-no-source.wav\",\n",
    "    )"
   ]
  },
  {
   "cell_type": "code",
   "execution_count": null,
   "id": "d133f98f-b1eb-41a5-b5e9-5c62de4466ab",
   "metadata": {},
   "outputs": [],
   "source": [
    "# Compute and plot source metrics for the current hydrophone\n",
    "(\n",
    "    distance,\n",
    "    heading,\n",
    "    heading_dot,\n",
    "    speed,\n",
    "    r_s_h,\n",
    "    v_s_h,\n",
    ") = lu.compute_source_metrics(source, vld_t, vld_lambda, vld_varphi, vld_h, hydrophone)\n",
    "\n",
    "lu.plot_source_metrics(\n",
    "    source, hydrophone, heading, heading_dot, distance, speed, r_s_h\n",
    ")"
   ]
  },
  {
   "cell_type": "code",
   "execution_count": null,
   "id": "9fe0f47b-db7b-4571-82d0-095df078d3d6",
   "metadata": {},
   "outputs": [],
   "source": [
    "# Consider the first sampling case\n",
    "case = sampling[0]\n",
    "clip_home = Path(clip_home) / case[\"output_dir\"]\n",
    "if not clip_home.exists():\n",
    "    clip_home.mkdir(parents=True)\n",
    "method = case[\"method\"]"
   ]
  },
  {
   "cell_type": "code",
   "execution_count": null,
   "id": "4b264901-7864-4342-bf5b-d3bed438e0c7",
   "metadata": {},
   "outputs": [],
   "source": [
    "if method[\"type\"] == \"clusters\":\n",
    "    (\n",
    "        distance_clusters,\n",
    "        heading_clusters,\n",
    "        heading_dot_clusters,\n",
    "        speed_clusters,\n",
    "    ) = lu.cluster_source_metrics(\n",
    "        distance,\n",
    "        method[\"distance_n_clusters\"],\n",
    "        heading,\n",
    "        method[\"heading_n_clusters\"],\n",
    "        heading_dot,\n",
    "        method[\"heading_dot_n_clusters\"],\n",
    "        speed,\n",
    "        method[\"speed_n_clusters\"],\n",
    "    )\n",
    "    gwl.slice_source_audio_by_cluster(\n",
    "        hydrophone,\n",
    "        audio,\n",
    "        hyd_max_start_t,\n",
    "        hyd_min_stop_t,\n",
    "        vld_t,\n",
    "        r_s_h,\n",
    "        distance_clusters,\n",
    "        heading_clusters,\n",
    "        heading_dot_clusters,\n",
    "        speed_clusters,\n",
    "        case[\"delta_t_max\"],\n",
    "        case[\"n_clips_max\"],\n",
    "        clip_home,\n",
    "        do_plot=False,\n",
    "    )\n",
    "elif method[\"type\"] == \"conditionals\":\n",
    "    gwl.slice_source_audio_by_condition(\n",
    "        hydrophone,\n",
    "        audio,\n",
    "        hyd_max_start_t,\n",
    "        hyd_min_stop_t,\n",
    "        vld_t,\n",
    "        r_s_h,\n",
    "        distance,\n",
    "        method[\"distance_limits\"],\n",
    "        heading,\n",
    "        method[\"heading_limits\"],\n",
    "        heading_dot,\n",
    "        method[\"heading_dot_limits\"],\n",
    "        speed,\n",
    "        method[\"speed_limits\"],\n",
    "        case[\"delta_t_max\"],\n",
    "        case[\"n_clips_max\"],\n",
    "        clip_home,\n",
    "        do_plot=False,\n",
    "    )"
   ]
  },
  {
   "cell_type": "code",
   "execution_count": null,
   "id": "cd60d6aa",
   "metadata": {},
   "outputs": [],
   "source": []
  }
 ],
 "metadata": {
  "kernelspec": {
   "display_name": "Python 3 (ipykernel)",
   "language": "python",
   "name": "python3"
  },
  "language_info": {
   "codemirror_mode": {
    "name": "ipython",
    "version": 3
   },
   "file_extension": ".py",
   "mimetype": "text/x-python",
   "name": "python",
   "nbconvert_exporter": "python",
   "pygments_lexer": "ipython3",
   "version": "3.8.13"
  }
 },
 "nbformat": 4,
 "nbformat_minor": 5
}
