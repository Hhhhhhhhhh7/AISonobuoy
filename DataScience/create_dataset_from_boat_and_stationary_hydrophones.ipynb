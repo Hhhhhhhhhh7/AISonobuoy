{
 "cells": [
  {
   "cell_type": "markdown",
   "id": "55c96d49-ad16-4d9f-a70b-81d59954b96a",
   "metadata": {},
   "source": [
    "Create distance dataset from a GPX track of a boat and one or more stationary hydrophones"
   ]
  },
  {
   "cell_type": "code",
   "execution_count": null,
   "id": "8cb8ae72-e3ee-4929-8762-1eae3c42b7db",
   "metadata": {},
   "outputs": [],
   "source": [
    "# Install depedencies\n",
    "!pip install gpxpy==1.5.0 geopy==2.2.0 pandas==1.4.1"
   ]
  },
  {
   "cell_type": "code",
   "execution_count": null,
   "id": "85a8fc80-9807-49de-84f7-7a3dd1d86d2c",
   "metadata": {},
   "outputs": [],
   "source": [
    "import gpxpy\n",
    "from geopy.distance import distance\n",
    "import pandas as pd"
   ]
  },
  {
   "cell_type": "code",
   "execution_count": null,
   "id": "a4d3bd5b-5fd1-499f-a826-be1f565a57d2",
   "metadata": {},
   "outputs": [],
   "source": [
    "gpx_path = \"example.gpx\"\n",
    "hydrophones = {\n",
    "    \"Unit1\": (1234, 1234), \n",
    "    \"Unit2\": (1337, 1337)\n",
    "}"
   ]
  },
  {
   "cell_type": "code",
   "execution_count": null,
   "id": "a0b4ec2b-a442-4631-a310-11cfdbf5a63a",
   "metadata": {},
   "outputs": [],
   "source": [
    "with open(\"example.gpx\", \"r\") as fd:\n",
    "    gpx = gpxpy.parse(fd)"
   ]
  },
  {
   "cell_type": "code",
   "execution_count": null,
   "id": "d58b29b0-0c9a-4b0e-902d-12fcea3972b4",
   "metadata": {},
   "outputs": [],
   "source": [
    "def iterate_though_points():\n",
    "    for route in gpx.routes:\n",
    "        for point in route.points:\n",
    "            yield {k: distance(v, (point.latitude, point.longitude)) for k, v in hydrophones.items()}"
   ]
  },
  {
   "cell_type": "code",
   "execution_count": null,
   "id": "99979c63-dc9c-42df-8062-1d12b59f644c",
   "metadata": {},
   "outputs": [],
   "source": [
    "pd.DataFrame(iterate_though_points())"
   ]
  }
 ],
 "metadata": {
  "kernelspec": {
   "display_name": "Python 3",
   "language": "python",
   "name": "python3"
  },
  "language_info": {
   "codemirror_mode": {
    "name": "ipython",
    "version": 3
   },
   "file_extension": ".py",
   "mimetype": "text/x-python",
   "name": "python",
   "nbconvert_exporter": "python",
   "pygments_lexer": "ipython3",
   "version": "3.8.8"
  }
 },
 "nbformat": 4,
 "nbformat_minor": 5
}
