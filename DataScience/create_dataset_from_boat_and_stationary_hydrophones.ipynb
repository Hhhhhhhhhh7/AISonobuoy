{
 "cells": [
  {
   "cell_type": "markdown",
   "id": "55c96d49-ad16-4d9f-a70b-81d59954b96a",
   "metadata": {},
   "source": [
    "Create distance dataset from a GPX track of a boat and one or more stationary hydrophones"
   ]
  },
  {
   "cell_type": "code",
   "execution_count": null,
   "id": "8cb8ae72-e3ee-4929-8762-1eae3c42b7db",
   "metadata": {},
   "outputs": [],
   "source": [
    "# Install depedencies\n",
    "!pip install gpxpy==1.5.0 geopy==2.2.0 pandas==1.4.1 pydub==0.25.1"
   ]
  },
  {
   "cell_type": "code",
   "execution_count": null,
   "id": "85a8fc80-9807-49de-84f7-7a3dd1d86d2c",
   "metadata": {},
   "outputs": [],
   "source": [
    "from pathlib import Path\n",
    "import gpxpy\n",
    "from geopy.distance import distance\n",
    "import pandas as pd\n",
    "from pydub import AudioSegment"
   ]
  },
  {
   "cell_type": "code",
   "execution_count": null,
   "id": "a4d3bd5b-5fd1-499f-a826-be1f565a57d2",
   "metadata": {},
   "outputs": [],
   "source": [
    "gpx_path = \"example.gpx\"\n",
    "NoBoatSection = -300000\n",
    "hydrophones = RuntimeError(\"Replace me with proper hydrophone locations\"); raise hydrophones"
   ]
  },
  {
   "cell_type": "code",
   "execution_count": null,
   "id": "a0b4ec2b-a442-4631-a310-11cfdbf5a63a",
   "metadata": {},
   "outputs": [],
   "source": [
    "with open(\"example.gpx\", \"r\") as fd:\n",
    "    gpx = gpxpy.parse(fd)"
   ]
  },
  {
   "cell_type": "code",
   "execution_count": null,
   "id": "d58b29b0-0c9a-4b0e-902d-12fcea3972b4",
   "metadata": {},
   "outputs": [],
   "source": [
    "def iterate_though_points():\n",
    "    for route in gpx.routes:\n",
    "        for point in route.points:\n",
    "            yield {k: distance(v, (point.latitude, point.longitude)).m for k, v in hydrophones.items()}"
   ]
  },
  {
   "cell_type": "code",
   "execution_count": null,
   "id": "99979c63-dc9c-42df-8062-1d12b59f644c",
   "metadata": {},
   "outputs": [],
   "source": [
    "df = pd.DataFrame(iterate_though_points())"
   ]
  },
  {
   "cell_type": "code",
   "execution_count": null,
   "id": "670710bf-b70c-4778-a793-1fcc9357a8cd",
   "metadata": {},
   "outputs": [],
   "source": [
    "def labeller(ele):\n",
    "    if ele < 250:\n",
    "        return \"Close\"\n",
    "    else:\n",
    "        return \"Far\"\n",
    "\n",
    "df = df.applymap(labeller)"
   ]
  },
  {
   "cell_type": "code",
   "execution_count": null,
   "id": "504d74ab-a18d-4732-8079-a32af61f9b26",
   "metadata": {},
   "outputs": [],
   "source": [
    "none_path = Path.cwd() / \"None\" \n",
    "close_path = Path.cwd() / \"Close\"\n",
    "far_path = Path.cwd() / \"Far\" \n",
    "none_path.mkdir(exist_ok=True)\n",
    "close_path.mkdir(exist_ok=True)\n",
    "far_path.mkdir(exist_ok=True)\n",
    "\n",
    "for unit in hydrophones.keys():\n",
    "    wav = AudioSegment.from_wav(f\"{unit}.WAV\")\n",
    "    wav[NoBoatSection:].export(none_path / f\"{unit}.wav\", format=\"wav\")\n",
    "    sample_diff = (len(wav) - NoBoatSection) // len(df)\n",
    "    window_size = sample_diff // 2\n",
    "    for i, sample in enumerate(df[unit], 1):\n",
    "        left_edge = i * sample_diff - window_size\n",
    "        right_edge = i * sample_diff + window_size\n",
    "        filename = Path.cwd() / sample / f\"{unit}-{i * sample_diff}.wav\"\n",
    "        wav[left_edge:right_edge].export(filename, format=\"wav\")"
   ]
  }
 ],
 "metadata": {
  "kernelspec": {
   "display_name": "Python 3 (ipykernel)",
   "language": "python",
   "name": "python3"
  },
  "language_info": {
   "codemirror_mode": {
    "name": "ipython",
    "version": 3
   },
   "file_extension": ".py",
   "mimetype": "text/x-python",
   "name": "python",
   "nbconvert_exporter": "python",
   "pygments_lexer": "ipython3",
   "version": "3.9.10"
  }
 },
 "nbformat": 4,
 "nbformat_minor": 5
}
